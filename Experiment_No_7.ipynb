{
 "cells": [
  {
   "cell_type": "code",
   "execution_count": 1,
   "id": "5225e7c2-7d4e-4b1d-8321-bb63998d9c70",
   "metadata": {},
   "outputs": [],
   "source": [
    "import mysql.connector"
   ]
  },
  {
   "cell_type": "code",
   "execution_count": 2,
   "id": "c7da791a-bb7b-4abf-a50a-a59e3ac15760",
   "metadata": {},
   "outputs": [],
   "source": [
    "mydatabase = mysql.connector.connect(\n",
    "    host = \"localhost\",\n",
    "    user = \"root\",\n",
    "    password = \"sahil@123\"\n",
    ")"
   ]
  },
  {
   "cell_type": "code",
   "execution_count": 3,
   "id": "03a5e367-ecb4-410b-9b40-9342acb1c70a",
   "metadata": {},
   "outputs": [],
   "source": [
    "mycursor = mydatabase.cursor()"
   ]
  },
  {
   "cell_type": "code",
   "execution_count": 4,
   "id": "ab32c845-e990-49f7-83eb-3fb87feb9e0f",
   "metadata": {},
   "outputs": [],
   "source": [
    "mycursor.execute(\"CREATE DATABASE mydatabase\")"
   ]
  },
  {
   "cell_type": "code",
   "execution_count": 6,
   "id": "9f03a5aa-9ee3-404f-8c79-56175a4c8047",
   "metadata": {},
   "outputs": [
    {
     "name": "stdout",
     "output_type": "stream",
     "text": [
      "('class',)\n",
      "('electricity_bill_management',)\n",
      "('information_schema',)\n",
      "('mydatabase',)\n",
      "('mysql',)\n",
      "('performance_schema',)\n",
      "('sakila',)\n",
      "('sys',)\n",
      "('world',)\n"
     ]
    }
   ],
   "source": [
    "mycursor.execute(\"SHOW DATABASES\")\n",
    " \n",
    "for i in mycursor:\n",
    "    print(i)\n",
    "mycursor = mydatabase.cursor()\n",
    "\n",
    "mydatabase.close()"
   ]
  },
  {
   "cell_type": "code",
   "execution_count": 7,
   "id": "efea6890-cd56-4a3f-9f9a-9579bad60753",
   "metadata": {},
   "outputs": [
    {
     "name": "stdout",
     "output_type": "stream",
     "text": [
      "('empid', 'int', 'NO', 'PRI', None, 'auto_increment')\n",
      "('empname', 'varchar(45)', 'YES', '', None, '')\n",
      "('department', 'varchar(45)', 'YES', '', None, '')\n",
      "('salary', 'int', 'YES', '', None, '')\n"
     ]
    }
   ],
   "source": [
    "db = mysql.connector.connect(\n",
    "    host=\"localhost\",\n",
    "    user=\"root\",\n",
    "    passwd=\"sahil@123\",\n",
    "    database=\"mydatabase\"\n",
    ")\n",
    " \n",
    "c = db.cursor()\n",
    "\n",
    "employeetbl_create = \"\"\"CREATE TABLE `mydatabase`.`tblemployee` (\n",
    "  `empid` INT NOT NULL AUTO_INCREMENT,\n",
    "  `empname` VARCHAR(45) NULL,\n",
    "  `department` VARCHAR(45) NULL,\n",
    "  `salary` INT NULL,\n",
    "   PRIMARY KEY (`empid`))\"\"\"\n",
    " \n",
    "c.execute(employeetbl_create)\n",
    " \n",
    "c = db.cursor()\n",
    "\n",
    "c.execute(\"desc tblemployee\")\n",
    "\n",
    "for i in c:\n",
    "    print(i)\n",
    "\n",
    "db.close()"
   ]
  },
  {
   "cell_type": "code",
   "execution_count": 8,
   "id": "2f02cef6-9cc6-4dd5-ae5d-37fde411928c",
   "metadata": {},
   "outputs": [],
   "source": [
    "db = mysql.connector.connect(\n",
    "    host=\"localhost\",\n",
    "    user=\"root\",\n",
    "    passwd=\"sahil@123\",\n",
    "    database=\"mydatabase\"\n",
    ")\n",
    " \n",
    "c = db.cursor()\n",
    "\n",
    "employeetbl_insert = \"\"\"INSERT INTO tblemployee (\n",
    "   empname,\n",
    "   department,\n",
    "   salary) \n",
    "   VALUES  (%s, %s, %s)\"\"\"\n",
    "\n",
    "data = [(\"Vighnesh\", \"HR\", \"200000\"),\n",
    "        (\"Krishna\", \"Accounts\", \"70000\"),\n",
    "        (\"Aditi\", \"Sales\", \"35000\"),\n",
    "        (\"Govinda\", \"Marketing\", \"50000\")]\n",
    " \n",
    "c.executemany(employeetbl_insert, data)\n",
    "db.commit()\n",
    "\n",
    "db.close()"
   ]
  },
  {
   "cell_type": "code",
   "execution_count": 9,
   "id": "db40f333-d695-4bf6-9bb1-8cf46169ae21",
   "metadata": {},
   "outputs": [
    {
     "name": "stdout",
     "output_type": "stream",
     "text": [
      "(1, 'Vighnesh', 'HR', 200000)\n",
      "(2, 'Krishna', 'Accounts', 70000)\n",
      "(3, 'Aditi', 'Sales', 35000)\n",
      "(4, 'Govinda', 'Marketing', 50000)\n"
     ]
    }
   ],
   "source": [
    "db = mysql.connector.connect(\n",
    "    host=\"localhost\",\n",
    "    user=\"root\",\n",
    "    passwd=\"sahil@123\",\n",
    "    database=\"mydatabase\"\n",
    ")\n",
    " \n",
    "c = db.cursor()\n",
    "\n",
    "employeetbl_select = \"\"\"SELECT * FROM tblemployee\"\"\"\n",
    " \n",
    "c.execute(employeetbl_select)\n",
    "\n",
    "employee_data = c.fetchall()\n",
    "\n",
    "for e in employee_data:\n",
    "    print(e)\n",
    "\n",
    "db.close()"
   ]
  },
  {
   "cell_type": "code",
   "execution_count": 15,
   "id": "948eca46-a711-4948-aa55-a4db075f92dc",
   "metadata": {},
   "outputs": [],
   "source": [
    "import mysql.connector\n",
    "\n",
    "db = mysql.connector.connect(\n",
    "    host=\"localhost\",\n",
    "    user=\"root\",\n",
    "    passwd=\"sahil@123\",\n",
    "    database=\"mydatabase\"\n",
    ")\n",
    "\n",
    "c = db.cursor()\n",
    "\n",
    "employeetbl_update = \"UPDATE tblemployee SET salary = 115000 WHERE empid = 1\"\n",
    "c.execute(employeetbl_update)\n",
    "\n",
    "db.commit()\n",
    "\n",
    "db.close()\n"
   ]
  },
  {
   "cell_type": "code",
   "execution_count": 16,
   "id": "a9b5c09b-03b2-4f55-ae2b-88dfd4d6306c",
   "metadata": {},
   "outputs": [],
   "source": [
    "db = mysql.connector.connect(\n",
    "\thost=\"localhost\",\n",
    "\tuser=\"root\",\n",
    "\tpasswd=\"sahil@123\",\n",
    "\tdatabase=\"mydatabase\"\n",
    ")\n",
    "\n",
    "c = db.cursor()\n",
    "\n",
    "employeetbl_delete = \"DELETE FROM tblemployee WHERE empid=2\"\n",
    "\n",
    "c.execute(employeetbl_delete)\n",
    "db.commit()\n",
    "\n",
    "db.close()\n"
   ]
  },
  {
   "cell_type": "code",
   "execution_count": null,
   "id": "95fff667-be9f-4dab-9ee5-a52b74ff4417",
   "metadata": {},
   "outputs": [],
   "source": []
  }
 ],
 "metadata": {
  "kernelspec": {
   "display_name": "Python 3 (ipykernel)",
   "language": "python",
   "name": "python3"
  },
  "language_info": {
   "codemirror_mode": {
    "name": "ipython",
    "version": 3
   },
   "file_extension": ".py",
   "mimetype": "text/x-python",
   "name": "python",
   "nbconvert_exporter": "python",
   "pygments_lexer": "ipython3",
   "version": "3.11.8"
  }
 },
 "nbformat": 4,
 "nbformat_minor": 5
}
