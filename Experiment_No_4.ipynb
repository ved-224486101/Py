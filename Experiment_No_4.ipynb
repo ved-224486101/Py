{
  "nbformat": 4,
  "nbformat_minor": 0,
  "metadata": {
    "colab": {
      "provenance": []
    },
    "kernelspec": {
      "name": "python3",
      "display_name": "Python 3"
    },
    "language_info": {
      "name": "python"
    }
  },
  "cells": [
    {
      "cell_type": "code",
      "execution_count": 3,
      "metadata": {
        "id": "ucdDj6teNCIo"
      },
      "outputs": [],
      "source": [
        "file = open('seeek.txt','w')\n",
        "file.write(\"This is the write command. \")\n",
        "file.write(\"It allows us to write in a particular file\")\n",
        "file.close()\n"
      ]
    },
    {
      "cell_type": "code",
      "source": [
        "file = open('seeek.txt', 'r')\n",
        "\n",
        "for each in file:\n",
        "\tprint (each)\n"
      ],
      "metadata": {
        "colab": {
          "base_uri": "https://localhost:8080/"
        },
        "id": "vPkyn3ZiNGj9",
        "outputId": "38a45beb-d344-42f1-d3c8-4671b17a954c"
      },
      "execution_count": 4,
      "outputs": [
        {
          "output_type": "stream",
          "name": "stdout",
          "text": [
            "This is the write command. It allows us to write in a particular file\n"
          ]
        }
      ]
    },
    {
      "cell_type": "code",
      "source": [
        "file = open('seeek.txt', 'a')\n",
        "file.write(\"This will add this line\")\n",
        "file.close()\n"
      ],
      "metadata": {
        "id": "gvAUO1GsNg-R"
      },
      "execution_count": 7,
      "outputs": []
    },
    {
      "cell_type": "code",
      "source": [
        "with open('seeek.txt', 'a+') as file:\n",
        "\tfile.write('Appended text\\n')\n",
        "\tfile.seek(0)\n",
        "\tcontent = file.read()\n",
        "\tprint(content)\n"
      ],
      "metadata": {
        "colab": {
          "base_uri": "https://localhost:8080/"
        },
        "id": "nLoGv12fNyt2",
        "outputId": "6380a872-3775-44a8-f5a7-3f1b143d3b60"
      },
      "execution_count": 8,
      "outputs": [
        {
          "output_type": "stream",
          "name": "stdout",
          "text": [
            "This is the write command. It allows us to write in a particular fileThis will add this lineThis will add this lineThis will add this lineAppended text\n",
            "\n"
          ]
        }
      ]
    },
    {
      "cell_type": "code",
      "source": [
        "with open('seeek.txt', 'w+') as file:\n",
        "\tfile.write('This will overwrite existing content')\n",
        "\tfile.seek(0)\n",
        "\tcontent = file.read()\n",
        "\tprint(content)\n"
      ],
      "metadata": {
        "colab": {
          "base_uri": "https://localhost:8080/"
        },
        "id": "HKzqMVqWOTjN",
        "outputId": "7f4886b5-8da9-47d5-a5d4-6d1c557634af"
      },
      "execution_count": 9,
      "outputs": [
        {
          "output_type": "stream",
          "name": "stdout",
          "text": [
            "This will overwrite existing content\n"
          ]
        }
      ]
    },
    {
      "cell_type": "code",
      "source": [
        "with open('seeek.txt', 'r+') as file:\n",
        "    content = file.read()\n",
        "    print(content)\n",
        "    file.write('Appending new content')\n",
        "    file.seek(0)\n",
        "    content = file.read()\n",
        "    print(content)\n",
        "\n"
      ],
      "metadata": {
        "colab": {
          "base_uri": "https://localhost:8080/"
        },
        "id": "0H53F7HNOjhs",
        "outputId": "ca8e29fb-c8de-48b3-ff3b-68faf85b1e2c"
      },
      "execution_count": 16,
      "outputs": [
        {
          "output_type": "stream",
          "name": "stdout",
          "text": [
            "This will overwrite existing contentAppending new content\n",
            "This will overwrite existing contentAppending new contentAppending new content\n"
          ]
        }
      ]
    },
    {
      "cell_type": "code",
      "source": [],
      "metadata": {
        "id": "roD823pLOwOn"
      },
      "execution_count": null,
      "outputs": []
    }
  ]
}